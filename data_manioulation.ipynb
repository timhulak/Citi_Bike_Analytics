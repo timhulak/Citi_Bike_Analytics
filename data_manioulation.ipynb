{
 "cells": [
  {
   "cell_type": "code",
   "execution_count": 6,
   "metadata": {},
   "outputs": [],
   "source": [
    "import pandas as pd"
   ]
  },
  {
   "cell_type": "code",
   "execution_count": 7,
   "metadata": {},
   "outputs": [],
   "source": [
    "df1 = pd.read_csv('201807-citibike-tripdata.csv')\n",
    "df2 = pd.read_csv('201808-citibike-tripdata.csv')\n",
    "df3 = pd.read_csv('201809-citibike-tripdata.csv')\n",
    "df4 = pd.read_csv('201810-citibike-tripdata.csv')\n",
    "df5 = pd.read_csv('201811-citibike-tripdata.csv')\n",
    "df6 = pd.read_csv('201812-citibike-tripdata.csv')\n",
    "df7 = pd.read_csv('201901-citibike-tripdata.csv')\n",
    "df8 = pd.read_csv('201902-citibike-tripdata.csv')\n",
    "df9 = pd.read_csv('201903-citibike-tripdata.csv')"
   ]
  },
  {
   "cell_type": "code",
   "execution_count": 8,
   "metadata": {},
   "outputs": [],
   "source": [
    "df_final = pd.concat([df1,df2,df3,df4,df5,df6,df7,df8,df9])"
   ]
  },
  {
   "cell_type": "code",
   "execution_count": 9,
   "metadata": {},
   "outputs": [],
   "source": [
    "df_final.reset_index(inplace=True)"
   ]
  },
  {
   "cell_type": "code",
   "execution_count": 10,
   "metadata": {},
   "outputs": [],
   "source": [
    "df_final.to_csv('full.csv')"
   ]
  },
  {
   "cell_type": "code",
   "execution_count": 11,
   "metadata": {},
   "outputs": [
    {
     "data": {
      "text/plain": [
       "13163194"
      ]
     },
     "execution_count": 11,
     "metadata": {},
     "output_type": "execute_result"
    }
   ],
   "source": [
    "len(df_final)"
   ]
  },
  {
   "cell_type": "code",
   "execution_count": null,
   "metadata": {},
   "outputs": [],
   "source": [
    "import pandas as pd\n",
    "\n",
    "df1 = pd.read_csv('201807-citibike-tripdata.csv')\n",
    "df2 = pd.read_csv('201808-citibike-tripdata.csv')\n",
    "df3 = pd.read_csv('201809-citibike-tripdata.csv')\n",
    "df4 = pd.read_csv('201810-citibike-tripdata.csv')\n",
    "df5 = pd.read_csv('201811-citibike-tripdata.csv')\n",
    "df6 = pd.read_csv('201812-citibike-tripdata.csv')\n",
    "df7 = pd.read_csv('201901-citibike-tripdata.csv')\n",
    "df8 = pd.read_csv('201902-citibike-tripdata.csv')\n",
    "df9 = pd.read_csv('201903-citibike-tripdata.csv')\n",
    "\n",
    "df_final = pd.concat([df1,df2,df3,df4,df5,df6,df7,df8,df9])\n",
    "\n",
    "df_final.reset_index(inplace=True)\n",
    "\n",
    "df_final.to_csv('full.csv')\n",
    "\n",
    "#Check the length\n",
    "len(df_final)"
   ]
  }
 ],
 "metadata": {
  "kernelspec": {
   "display_name": "Python 3",
   "language": "python",
   "name": "python3"
  },
  "language_info": {
   "codemirror_mode": {
    "name": "ipython",
    "version": 3
   },
   "file_extension": ".py",
   "mimetype": "text/x-python",
   "name": "python",
   "nbconvert_exporter": "python",
   "pygments_lexer": "ipython3",
   "version": "3.6.8"
  }
 },
 "nbformat": 4,
 "nbformat_minor": 2
}
